{
 "cells": [
  {
   "cell_type": "code",
   "execution_count": 9,
   "id": "e3966207-c7a6-4a20-bb66-563fed34093a",
   "metadata": {},
   "outputs": [
    {
     "name": "stdout",
     "output_type": "stream",
     "text": [
      "Dataset loaded successfully!\n"
     ]
    },
    {
     "data": {
      "text/html": [
       "<div>\n",
       "<style scoped>\n",
       "    .dataframe tbody tr th:only-of-type {\n",
       "        vertical-align: middle;\n",
       "    }\n",
       "\n",
       "    .dataframe tbody tr th {\n",
       "        vertical-align: top;\n",
       "    }\n",
       "\n",
       "    .dataframe thead th {\n",
       "        text-align: right;\n",
       "    }\n",
       "</style>\n",
       "<table border=\"1\" class=\"dataframe\">\n",
       "  <thead>\n",
       "    <tr style=\"text-align: right;\">\n",
       "      <th></th>\n",
       "      <th>elevation</th>\n",
       "      <th>aspect</th>\n",
       "      <th>slope</th>\n",
       "      <th>h_dist_hydrology</th>\n",
       "      <th>v_dist_hydrology</th>\n",
       "      <th>h_dist_roadways</th>\n",
       "      <th>hillshade_9am</th>\n",
       "      <th>hillshade_noon</th>\n",
       "      <th>hillshade_3pm</th>\n",
       "      <th>wilderness_area</th>\n",
       "      <th>soil_type</th>\n",
       "      <th>cover_type</th>\n",
       "      <th>cover_name</th>\n",
       "    </tr>\n",
       "  </thead>\n",
       "  <tbody>\n",
       "    <tr>\n",
       "      <th>0</th>\n",
       "      <td>4357</td>\n",
       "      <td>359</td>\n",
       "      <td>1</td>\n",
       "      <td>801</td>\n",
       "      <td>53</td>\n",
       "      <td>2527</td>\n",
       "      <td>131</td>\n",
       "      <td>219</td>\n",
       "      <td>152</td>\n",
       "      <td>Cache la Poudre</td>\n",
       "      <td>Soil_37</td>\n",
       "      <td>2</td>\n",
       "      <td>Lodgepole Pine</td>\n",
       "    </tr>\n",
       "    <tr>\n",
       "      <th>1</th>\n",
       "      <td>2796</td>\n",
       "      <td>103</td>\n",
       "      <td>51</td>\n",
       "      <td>883</td>\n",
       "      <td>157</td>\n",
       "      <td>3575</td>\n",
       "      <td>106</td>\n",
       "      <td>195</td>\n",
       "      <td>70</td>\n",
       "      <td>Comanche Peak</td>\n",
       "      <td>Soil_25</td>\n",
       "      <td>5</td>\n",
       "      <td>Aspen</td>\n",
       "    </tr>\n",
       "    <tr>\n",
       "      <th>2</th>\n",
       "      <td>3432</td>\n",
       "      <td>22</td>\n",
       "      <td>36</td>\n",
       "      <td>259</td>\n",
       "      <td>163</td>\n",
       "      <td>1342</td>\n",
       "      <td>118</td>\n",
       "      <td>209</td>\n",
       "      <td>71</td>\n",
       "      <td>Cache la Poudre</td>\n",
       "      <td>Soil_29</td>\n",
       "      <td>2</td>\n",
       "      <td>Lodgepole Pine</td>\n",
       "    </tr>\n",
       "    <tr>\n",
       "      <th>3</th>\n",
       "      <td>3950</td>\n",
       "      <td>279</td>\n",
       "      <td>11</td>\n",
       "      <td>608</td>\n",
       "      <td>125</td>\n",
       "      <td>4007</td>\n",
       "      <td>139</td>\n",
       "      <td>155</td>\n",
       "      <td>129</td>\n",
       "      <td>Rawah</td>\n",
       "      <td>Soil_22</td>\n",
       "      <td>6</td>\n",
       "      <td>Douglas-fir</td>\n",
       "    </tr>\n",
       "    <tr>\n",
       "      <th>4</th>\n",
       "      <td>3840</td>\n",
       "      <td>191</td>\n",
       "      <td>1</td>\n",
       "      <td>338</td>\n",
       "      <td>70</td>\n",
       "      <td>4036</td>\n",
       "      <td>118</td>\n",
       "      <td>148</td>\n",
       "      <td>112</td>\n",
       "      <td>Cache la Poudre</td>\n",
       "      <td>Soil_14</td>\n",
       "      <td>1</td>\n",
       "      <td>Spruce/Fir</td>\n",
       "    </tr>\n",
       "  </tbody>\n",
       "</table>\n",
       "</div>"
      ],
      "text/plain": [
       "   elevation  aspect  slope  h_dist_hydrology  v_dist_hydrology  \\\n",
       "0       4357     359      1               801                53   \n",
       "1       2796     103     51               883               157   \n",
       "2       3432      22     36               259               163   \n",
       "3       3950     279     11               608               125   \n",
       "4       3840     191      1               338                70   \n",
       "\n",
       "   h_dist_roadways  hillshade_9am  hillshade_noon  hillshade_3pm  \\\n",
       "0             2527            131             219            152   \n",
       "1             3575            106             195             70   \n",
       "2             1342            118             209             71   \n",
       "3             4007            139             155            129   \n",
       "4             4036            118             148            112   \n",
       "\n",
       "   wilderness_area soil_type  cover_type      cover_name  \n",
       "0  Cache la Poudre   Soil_37           2  Lodgepole Pine  \n",
       "1    Comanche Peak   Soil_25           5           Aspen  \n",
       "2  Cache la Poudre   Soil_29           2  Lodgepole Pine  \n",
       "3            Rawah   Soil_22           6     Douglas-fir  \n",
       "4  Cache la Poudre   Soil_14           1      Spruce/Fir  "
      ]
     },
     "execution_count": 9,
     "metadata": {},
     "output_type": "execute_result"
    }
   ],
   "source": [
    "import pandas as pd\n",
    "import numpy as np\n",
    "import matplotlib.pyplot as plt\n",
    "import seaborn as sns\n",
    "\n",
    "# Load dataset\n",
    "df = pd.read_csv(\"forest_cover_dataset.csv\")\n",
    "print(\"Dataset loaded successfully!\")\n",
    "df.head()\n"
   ]
  },
  {
   "cell_type": "code",
   "execution_count": 12,
   "id": "6433e50d-eadd-48c3-8868-a0fb5d37c5db",
   "metadata": {},
   "outputs": [
    {
     "name": "stdout",
     "output_type": "stream",
     "text": [
      "\n",
      "📊 Dataset Info:\n",
      "<class 'pandas.core.frame.DataFrame'>\n",
      "RangeIndex: 1000 entries, 0 to 999\n",
      "Data columns (total 13 columns):\n",
      " #   Column            Non-Null Count  Dtype \n",
      "---  ------            --------------  ----- \n",
      " 0   elevation         1000 non-null   int64 \n",
      " 1   aspect            1000 non-null   int64 \n",
      " 2   slope             1000 non-null   int64 \n",
      " 3   h_dist_hydrology  1000 non-null   int64 \n",
      " 4   v_dist_hydrology  1000 non-null   int64 \n",
      " 5   h_dist_roadways   1000 non-null   int64 \n",
      " 6   hillshade_9am     1000 non-null   int64 \n",
      " 7   hillshade_noon    1000 non-null   int64 \n",
      " 8   hillshade_3pm     1000 non-null   int64 \n",
      " 9   wilderness_area   1000 non-null   object\n",
      " 10  soil_type         1000 non-null   object\n",
      " 11  cover_type        1000 non-null   int64 \n",
      " 12  cover_name        1000 non-null   object\n",
      "dtypes: int64(10), object(3)\n",
      "memory usage: 101.7+ KB\n",
      "None\n",
      "\n",
      "🔍 Check for missing values:\n",
      "elevation           0\n",
      "aspect              0\n",
      "slope               0\n",
      "h_dist_hydrology    0\n",
      "v_dist_hydrology    0\n",
      "h_dist_roadways     0\n",
      "hillshade_9am       0\n",
      "hillshade_noon      0\n",
      "hillshade_3pm       0\n",
      "wilderness_area     0\n",
      "soil_type           0\n",
      "cover_type          0\n",
      "cover_name          0\n",
      "dtype: int64\n",
      "\n",
      "🎯 Unique cover types (Target Classes):\n",
      "cover_type\n",
      "3    156\n",
      "5    153\n",
      "4    152\n",
      "7    151\n",
      "6    138\n",
      "2    132\n",
      "1    118\n",
      "Name: count, dtype: int64\n"
     ]
    }
   ],
   "source": [
    "print(\"\\n📊 Dataset Info:\")\n",
    "print(df.info())\n",
    "\n",
    "print(\"\\n🔍 Check for missing values:\")\n",
    "print(df.isnull().sum())\n",
    "\n",
    "print(\"\\n🎯 Unique cover types (Target Classes):\")\n",
    "print(df[\"cover_type\"].value_counts())\n"
   ]
  },
  {
   "cell_type": "code",
   "execution_count": 13,
   "id": "b726249a-e7c5-4111-9e0a-c8be0ce2324e",
   "metadata": {},
   "outputs": [],
   "source": [
    "# Features and Target\n",
    "X = df.drop(\"cover_type\", axis=1)\n",
    "y = df[\"cover_type\"]\n"
   ]
  },
  {
   "cell_type": "code",
   "execution_count": 14,
   "id": "7309dcd2-d8a8-4e84-819e-dfdec4cf2d6e",
   "metadata": {},
   "outputs": [
    {
     "name": "stdout",
     "output_type": "stream",
     "text": [
      "✅ Data split complete.\n"
     ]
    }
   ],
   "source": [
    "from sklearn.model_selection import train_test_split\n",
    "\n",
    "X_train, X_test, y_train, y_test = train_test_split(\n",
    "    X, y, test_size=0.2, random_state=42, stratify=y\n",
    ")\n",
    "print(\"✅ Data split complete.\")\n"
   ]
  },
  {
   "cell_type": "code",
   "execution_count": 20,
   "id": "b469a79b-18d4-4a44-8ace-206070ed83cf",
   "metadata": {},
   "outputs": [],
   "source": [
    "scaler = StandardScaler()\n",
    "X_train_scaled = scaler.fit_transform(X_train)\n",
    "X_test_scaled = scaler.transform(X_test)\n",
    "\n"
   ]
  },
  {
   "cell_type": "code",
   "execution_count": 21,
   "id": "b436ebec-0460-4b94-971a-05f3b029eb3d",
   "metadata": {},
   "outputs": [
    {
     "name": "stdout",
     "output_type": "stream",
     "text": [
      "🌲 Decision Tree Model trained.\n"
     ]
    }
   ],
   "source": [
    "from sklearn.tree import DecisionTreeClassifier\n",
    "\n",
    "model = DecisionTreeClassifier(random_state=42)\n",
    "model.fit(X_train_scaled, y_train)\n",
    "print(\"🌲 Decision Tree Model trained.\")\n"
   ]
  },
  {
   "cell_type": "code",
   "execution_count": 22,
   "id": "cc0d11f2-e6cb-43cd-8bbe-20e9a5623ee1",
   "metadata": {},
   "outputs": [
    {
     "name": "stdout",
     "output_type": "stream",
     "text": [
      "✅ Accuracy: 1.0\n",
      "\n",
      "📄 Classification Report:\n",
      "               precision    recall  f1-score   support\n",
      "\n",
      "           0       1.00      1.00      1.00        15\n",
      "           1       1.00      1.00      1.00        11\n",
      "           2       1.00      1.00      1.00        12\n",
      "\n",
      "    accuracy                           1.00        38\n",
      "   macro avg       1.00      1.00      1.00        38\n",
      "weighted avg       1.00      1.00      1.00        38\n",
      "\n"
     ]
    }
   ],
   "source": [
    "from sklearn.metrics import accuracy_score, classification_report, confusion_matrix\n",
    "\n",
    "y_pred = model.predict(X_test_scaled)\n",
    "\n",
    "print(\"✅ Accuracy:\", accuracy_score(y_test, y_pred))\n",
    "print(\"\\n📄 Classification Report:\\n\", classification_report(y_test, y_pred))\n"
   ]
  },
  {
   "cell_type": "code",
   "execution_count": 23,
   "id": "ffc793e4-a2db-4942-8d74-ac4914b19ae2",
   "metadata": {},
   "outputs": [
    {
     "data": {
      "image/png": "[encoded data removed]",
      "text/plain": [
       "<Figure size 1000x600 with 2 Axes>"
      ]
     },
     "metadata": {},
     "output_type": "display_data"
    }
   ],
   "source": [
    "plt.figure(figsize=(10, 6))\n",
    "sns.heatmap(confusion_matrix(y_test, y_pred), annot=True, fmt='d', cmap='Greens')\n",
    "plt.title(\"Confusion Matrix\")\n",
    "plt.xlabel(\"Predicted\")\n",
    "plt.ylabel(\"Actual\")\n",
    "plt.show()\n"
   ]
  },
  {
   "cell_type": "code",
   "execution_count": 30,
   "id": "836ea1c0-3c8f-40f3-ba3c-ee6fc3bfb5c7",
   "metadata": {},
   "outputs": [
    {
     "name": "stdout",
     "output_type": "stream",
     "text": [
      "Features used for training: 4\n"
     ]
    }
   ],
   "source": [
    "print(\"Features used for training:\", X_train.shape[1])\n"
   ]
  },
  {
   "cell_type": "code",
   "execution_count": 34,
   "id": "d5485535-159b-491e-a197-7ac6b0698743",
   "metadata": {},
   "outputs": [],
   "source": [
    "# Example input (Elevation, Aspect, Slope, Horizontal_Distance_To_Hydrology)\n",
    "sample_input = np.array([[3000, 45, 10, 100]])\n"
   ]
  },
  {
   "cell_type": "code",
   "execution_count": 35,
   "id": "98515602-9596-4b14-9cfd-63fe92141c9f",
   "metadata": {},
   "outputs": [
    {
     "name": "stdout",
     "output_type": "stream",
     "text": [
      "📌 Predicted Cover Type for new sample: 2\n"
     ]
    }
   ],
   "source": [
    "# Scale the input using the same scaler used in training\n",
    "sample_scaled = scaler.transform(sample_input)\n",
    "\n",
    "# Predict the class\n",
    "predicted_class = model.predict(sample_scaled)\n",
    "\n",
    "print(\"📌 Predicted Cover Type for new sample:\", predicted_class[0])\n"
   ]
  },
  {
   "cell_type": "code",
   "execution_count": 36,
   "id": "f03506c7-a57a-41fe-b86d-eebbec8d3dd7",
   "metadata": {},
   "outputs": [
    {
     "name": "stdout",
     "output_type": "stream",
     "text": [
      "✅ Model and scaler saved.\n"
     ]
    }
   ],
   "source": [
    "import joblib\n",
    "joblib.dump(model, \"forest_cover_model.pkl\")\n",
    "joblib.dump(scaler, \"scaler.pkl\")\n",
    "print(\"✅ Model and scaler saved.\")\n"
   ]
  },
  {
   "cell_type": "code",
   "execution_count": null,
   "id": "aa8af35f-7266-4f2a-a2b0-1f44380fce94",
   "metadata": {},
   "outputs": [],
   "source": []
  }
 ],
 "metadata": {
  "kernelspec": {
   "display_name": "Python 3 (ipykernel)",
   "language": "python",
   "name": "python3"
  },
  "language_info": {
   "codemirror_mode": {
    "name": "ipython",
    "version": 3
   },
   "file_extension": ".py",
   "mimetype": "text/x-python",
   "name": "python",
   "nbconvert_exporter": "python",
   "pygments_lexer": "ipython3",
   "version": "3.11.4"
  }
 },
 "nbformat": 4,
 "nbformat_minor": 5
}
